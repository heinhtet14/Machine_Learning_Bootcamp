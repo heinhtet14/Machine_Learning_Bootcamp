{
  "nbformat": 4,
  "nbformat_minor": 0,
  "metadata": {
    "colab": {
      "provenance": [],
      "include_colab_link": true
    },
    "kernelspec": {
      "name": "python3",
      "display_name": "Python 3"
    },
    "language_info": {
      "name": "python"
    },
    "accelerator": "GPU",
    "gpuClass": "standard",
    "widgets": {
      "application/vnd.jupyter.widget-state+json": {
        "185282a705fc4c3f9f9ec3d1359bc16a": {
          "model_module": "@jupyter-widgets/controls",
          "model_name": "HBoxModel",
          "model_module_version": "1.5.0",
          "state": {
            "_dom_classes": [],
            "_model_module": "@jupyter-widgets/controls",
            "_model_module_version": "1.5.0",
            "_model_name": "HBoxModel",
            "_view_count": null,
            "_view_module": "@jupyter-widgets/controls",
            "_view_module_version": "1.5.0",
            "_view_name": "HBoxView",
            "box_style": "",
            "children": [
              "IPY_MODEL_6fbc1af133f140c6b4cbeddd1e868f83",
              "IPY_MODEL_1c02ecd0e62e433f886e0a0443c59ad8",
              "IPY_MODEL_63341649066049d58094f94702e73f79"
            ],
            "layout": "IPY_MODEL_422113f4a92d4329bc5b490a1d7da9dc"
          }
        },
        "6fbc1af133f140c6b4cbeddd1e868f83": {
          "model_module": "@jupyter-widgets/controls",
          "model_name": "HTMLModel",
          "model_module_version": "1.5.0",
          "state": {
            "_dom_classes": [],
            "_model_module": "@jupyter-widgets/controls",
            "_model_module_version": "1.5.0",
            "_model_name": "HTMLModel",
            "_view_count": null,
            "_view_module": "@jupyter-widgets/controls",
            "_view_module_version": "1.5.0",
            "_view_name": "HTMLView",
            "description": "",
            "description_tooltip": null,
            "layout": "IPY_MODEL_86810ca83e4c41a98215e9cd61305e1d",
            "placeholder": "​",
            "style": "IPY_MODEL_4e6bbfd9efe547a1ac46028e4dab42f4",
            "value": "100%"
          }
        },
        "1c02ecd0e62e433f886e0a0443c59ad8": {
          "model_module": "@jupyter-widgets/controls",
          "model_name": "FloatProgressModel",
          "model_module_version": "1.5.0",
          "state": {
            "_dom_classes": [],
            "_model_module": "@jupyter-widgets/controls",
            "_model_module_version": "1.5.0",
            "_model_name": "FloatProgressModel",
            "_view_count": null,
            "_view_module": "@jupyter-widgets/controls",
            "_view_module_version": "1.5.0",
            "_view_name": "ProgressView",
            "bar_style": "success",
            "description": "",
            "description_tooltip": null,
            "layout": "IPY_MODEL_54406f1db08742b8b2cde1e2055f2db8",
            "max": 9912422,
            "min": 0,
            "orientation": "horizontal",
            "style": "IPY_MODEL_f39f5d0bbca742cdaaf0bddd0e6d2f2f",
            "value": 9912422
          }
        },
        "63341649066049d58094f94702e73f79": {
          "model_module": "@jupyter-widgets/controls",
          "model_name": "HTMLModel",
          "model_module_version": "1.5.0",
          "state": {
            "_dom_classes": [],
            "_model_module": "@jupyter-widgets/controls",
            "_model_module_version": "1.5.0",
            "_model_name": "HTMLModel",
            "_view_count": null,
            "_view_module": "@jupyter-widgets/controls",
            "_view_module_version": "1.5.0",
            "_view_name": "HTMLView",
            "description": "",
            "description_tooltip": null,
            "layout": "IPY_MODEL_b70c0bf76bba444b8e9042b0601a2477",
            "placeholder": "​",
            "style": "IPY_MODEL_1cb1578e33a244c780da047c15dab19d",
            "value": " 9912422/9912422 [00:00&lt;00:00, 22897592.18it/s]"
          }
        },
        "422113f4a92d4329bc5b490a1d7da9dc": {
          "model_module": "@jupyter-widgets/base",
          "model_name": "LayoutModel",
          "model_module_version": "1.2.0",
          "state": {
            "_model_module": "@jupyter-widgets/base",
            "_model_module_version": "1.2.0",
            "_model_name": "LayoutModel",
            "_view_count": null,
            "_view_module": "@jupyter-widgets/base",
            "_view_module_version": "1.2.0",
            "_view_name": "LayoutView",
            "align_content": null,
            "align_items": null,
            "align_self": null,
            "border": null,
            "bottom": null,
            "display": null,
            "flex": null,
            "flex_flow": null,
            "grid_area": null,
            "grid_auto_columns": null,
            "grid_auto_flow": null,
            "grid_auto_rows": null,
            "grid_column": null,
            "grid_gap": null,
            "grid_row": null,
            "grid_template_areas": null,
            "grid_template_columns": null,
            "grid_template_rows": null,
            "height": null,
            "justify_content": null,
            "justify_items": null,
            "left": null,
            "margin": null,
            "max_height": null,
            "max_width": null,
            "min_height": null,
            "min_width": null,
            "object_fit": null,
            "object_position": null,
            "order": null,
            "overflow": null,
            "overflow_x": null,
            "overflow_y": null,
            "padding": null,
            "right": null,
            "top": null,
            "visibility": null,
            "width": null
          }
        },
        "86810ca83e4c41a98215e9cd61305e1d": {
          "model_module": "@jupyter-widgets/base",
          "model_name": "LayoutModel",
          "model_module_version": "1.2.0",
          "state": {
            "_model_module": "@jupyter-widgets/base",
            "_model_module_version": "1.2.0",
            "_model_name": "LayoutModel",
            "_view_count": null,
            "_view_module": "@jupyter-widgets/base",
            "_view_module_version": "1.2.0",
            "_view_name": "LayoutView",
            "align_content": null,
            "align_items": null,
            "align_self": null,
            "border": null,
            "bottom": null,
            "display": null,
            "flex": null,
            "flex_flow": null,
            "grid_area": null,
            "grid_auto_columns": null,
            "grid_auto_flow": null,
            "grid_auto_rows": null,
            "grid_column": null,
            "grid_gap": null,
            "grid_row": null,
            "grid_template_areas": null,
            "grid_template_columns": null,
            "grid_template_rows": null,
            "height": null,
            "justify_content": null,
            "justify_items": null,
            "left": null,
            "margin": null,
            "max_height": null,
            "max_width": null,
            "min_height": null,
            "min_width": null,
            "object_fit": null,
            "object_position": null,
            "order": null,
            "overflow": null,
            "overflow_x": null,
            "overflow_y": null,
            "padding": null,
            "right": null,
            "top": null,
            "visibility": null,
            "width": null
          }
        },
        "4e6bbfd9efe547a1ac46028e4dab42f4": {
          "model_module": "@jupyter-widgets/controls",
          "model_name": "DescriptionStyleModel",
          "model_module_version": "1.5.0",
          "state": {
            "_model_module": "@jupyter-widgets/controls",
            "_model_module_version": "1.5.0",
            "_model_name": "DescriptionStyleModel",
            "_view_count": null,
            "_view_module": "@jupyter-widgets/base",
            "_view_module_version": "1.2.0",
            "_view_name": "StyleView",
            "description_width": ""
          }
        },
        "54406f1db08742b8b2cde1e2055f2db8": {
          "model_module": "@jupyter-widgets/base",
          "model_name": "LayoutModel",
          "model_module_version": "1.2.0",
          "state": {
            "_model_module": "@jupyter-widgets/base",
            "_model_module_version": "1.2.0",
            "_model_name": "LayoutModel",
            "_view_count": null,
            "_view_module": "@jupyter-widgets/base",
            "_view_module_version": "1.2.0",
            "_view_name": "LayoutView",
            "align_content": null,
            "align_items": null,
            "align_self": null,
            "border": null,
            "bottom": null,
            "display": null,
            "flex": null,
            "flex_flow": null,
            "grid_area": null,
            "grid_auto_columns": null,
            "grid_auto_flow": null,
            "grid_auto_rows": null,
            "grid_column": null,
            "grid_gap": null,
            "grid_row": null,
            "grid_template_areas": null,
            "grid_template_columns": null,
            "grid_template_rows": null,
            "height": null,
            "justify_content": null,
            "justify_items": null,
            "left": null,
            "margin": null,
            "max_height": null,
            "max_width": null,
            "min_height": null,
            "min_width": null,
            "object_fit": null,
            "object_position": null,
            "order": null,
            "overflow": null,
            "overflow_x": null,
            "overflow_y": null,
            "padding": null,
            "right": null,
            "top": null,
            "visibility": null,
            "width": null
          }
        },
        "f39f5d0bbca742cdaaf0bddd0e6d2f2f": {
          "model_module": "@jupyter-widgets/controls",
          "model_name": "ProgressStyleModel",
          "model_module_version": "1.5.0",
          "state": {
            "_model_module": "@jupyter-widgets/controls",
            "_model_module_version": "1.5.0",
            "_model_name": "ProgressStyleModel",
            "_view_count": null,
            "_view_module": "@jupyter-widgets/base",
            "_view_module_version": "1.2.0",
            "_view_name": "StyleView",
            "bar_color": null,
            "description_width": ""
          }
        },
        "b70c0bf76bba444b8e9042b0601a2477": {
          "model_module": "@jupyter-widgets/base",
          "model_name": "LayoutModel",
          "model_module_version": "1.2.0",
          "state": {
            "_model_module": "@jupyter-widgets/base",
            "_model_module_version": "1.2.0",
            "_model_name": "LayoutModel",
            "_view_count": null,
            "_view_module": "@jupyter-widgets/base",
            "_view_module_version": "1.2.0",
            "_view_name": "LayoutView",
            "align_content": null,
            "align_items": null,
            "align_self": null,
            "border": null,
            "bottom": null,
            "display": null,
            "flex": null,
            "flex_flow": null,
            "grid_area": null,
            "grid_auto_columns": null,
            "grid_auto_flow": null,
            "grid_auto_rows": null,
            "grid_column": null,
            "grid_gap": null,
            "grid_row": null,
            "grid_template_areas": null,
            "grid_template_columns": null,
            "grid_template_rows": null,
            "height": null,
            "justify_content": null,
            "justify_items": null,
            "left": null,
            "margin": null,
            "max_height": null,
            "max_width": null,
            "min_height": null,
            "min_width": null,
            "object_fit": null,
            "object_position": null,
            "order": null,
            "overflow": null,
            "overflow_x": null,
            "overflow_y": null,
            "padding": null,
            "right": null,
            "top": null,
            "visibility": null,
            "width": null
          }
        },
        "1cb1578e33a244c780da047c15dab19d": {
          "model_module": "@jupyter-widgets/controls",
          "model_name": "DescriptionStyleModel",
          "model_module_version": "1.5.0",
          "state": {
            "_model_module": "@jupyter-widgets/controls",
            "_model_module_version": "1.5.0",
            "_model_name": "DescriptionStyleModel",
            "_view_count": null,
            "_view_module": "@jupyter-widgets/base",
            "_view_module_version": "1.2.0",
            "_view_name": "StyleView",
            "description_width": ""
          }
        },
        "47b8c15125cf4c1f8571bf765ab34f31": {
          "model_module": "@jupyter-widgets/controls",
          "model_name": "HBoxModel",
          "model_module_version": "1.5.0",
          "state": {
            "_dom_classes": [],
            "_model_module": "@jupyter-widgets/controls",
            "_model_module_version": "1.5.0",
            "_model_name": "HBoxModel",
            "_view_count": null,
            "_view_module": "@jupyter-widgets/controls",
            "_view_module_version": "1.5.0",
            "_view_name": "HBoxView",
            "box_style": "",
            "children": [
              "IPY_MODEL_ca57337eac7e4a5ab50d437b1c9e2a90",
              "IPY_MODEL_c5097d8d09f14e4bb61fe2b37b844632",
              "IPY_MODEL_e1a6a41b17df4b8195f603204c540230"
            ],
            "layout": "IPY_MODEL_b29700dce2a24cd0a77d0627e2ce7acd"
          }
        },
        "ca57337eac7e4a5ab50d437b1c9e2a90": {
          "model_module": "@jupyter-widgets/controls",
          "model_name": "HTMLModel",
          "model_module_version": "1.5.0",
          "state": {
            "_dom_classes": [],
            "_model_module": "@jupyter-widgets/controls",
            "_model_module_version": "1.5.0",
            "_model_name": "HTMLModel",
            "_view_count": null,
            "_view_module": "@jupyter-widgets/controls",
            "_view_module_version": "1.5.0",
            "_view_name": "HTMLView",
            "description": "",
            "description_tooltip": null,
            "layout": "IPY_MODEL_006038d3fb11428b9b9fbc2236b1273b",
            "placeholder": "​",
            "style": "IPY_MODEL_a963c7bb5eef476bb1b3b550d6b304ca",
            "value": "100%"
          }
        },
        "c5097d8d09f14e4bb61fe2b37b844632": {
          "model_module": "@jupyter-widgets/controls",
          "model_name": "FloatProgressModel",
          "model_module_version": "1.5.0",
          "state": {
            "_dom_classes": [],
            "_model_module": "@jupyter-widgets/controls",
            "_model_module_version": "1.5.0",
            "_model_name": "FloatProgressModel",
            "_view_count": null,
            "_view_module": "@jupyter-widgets/controls",
            "_view_module_version": "1.5.0",
            "_view_name": "ProgressView",
            "bar_style": "success",
            "description": "",
            "description_tooltip": null,
            "layout": "IPY_MODEL_edd0e44d34f34c79960f3bf2adbc735b",
            "max": 28881,
            "min": 0,
            "orientation": "horizontal",
            "style": "IPY_MODEL_9229ca234ca5415bb8f3f998bef3c626",
            "value": 28881
          }
        },
        "e1a6a41b17df4b8195f603204c540230": {
          "model_module": "@jupyter-widgets/controls",
          "model_name": "HTMLModel",
          "model_module_version": "1.5.0",
          "state": {
            "_dom_classes": [],
            "_model_module": "@jupyter-widgets/controls",
            "_model_module_version": "1.5.0",
            "_model_name": "HTMLModel",
            "_view_count": null,
            "_view_module": "@jupyter-widgets/controls",
            "_view_module_version": "1.5.0",
            "_view_name": "HTMLView",
            "description": "",
            "description_tooltip": null,
            "layout": "IPY_MODEL_4fcc74e9304c49318a5f99711b72243d",
            "placeholder": "​",
            "style": "IPY_MODEL_f776cafcd36f4ff6b1b78c8c2a743ff8",
            "value": " 28881/28881 [00:00&lt;00:00, 1769360.00it/s]"
          }
        },
        "b29700dce2a24cd0a77d0627e2ce7acd": {
          "model_module": "@jupyter-widgets/base",
          "model_name": "LayoutModel",
          "model_module_version": "1.2.0",
          "state": {
            "_model_module": "@jupyter-widgets/base",
            "_model_module_version": "1.2.0",
            "_model_name": "LayoutModel",
            "_view_count": null,
            "_view_module": "@jupyter-widgets/base",
            "_view_module_version": "1.2.0",
            "_view_name": "LayoutView",
            "align_content": null,
            "align_items": null,
            "align_self": null,
            "border": null,
            "bottom": null,
            "display": null,
            "flex": null,
            "flex_flow": null,
            "grid_area": null,
            "grid_auto_columns": null,
            "grid_auto_flow": null,
            "grid_auto_rows": null,
            "grid_column": null,
            "grid_gap": null,
            "grid_row": null,
            "grid_template_areas": null,
            "grid_template_columns": null,
            "grid_template_rows": null,
            "height": null,
            "justify_content": null,
            "justify_items": null,
            "left": null,
            "margin": null,
            "max_height": null,
            "max_width": null,
            "min_height": null,
            "min_width": null,
            "object_fit": null,
            "object_position": null,
            "order": null,
            "overflow": null,
            "overflow_x": null,
            "overflow_y": null,
            "padding": null,
            "right": null,
            "top": null,
            "visibility": null,
            "width": null
          }
        },
        "006038d3fb11428b9b9fbc2236b1273b": {
          "model_module": "@jupyter-widgets/base",
          "model_name": "LayoutModel",
          "model_module_version": "1.2.0",
          "state": {
            "_model_module": "@jupyter-widgets/base",
            "_model_module_version": "1.2.0",
            "_model_name": "LayoutModel",
            "_view_count": null,
            "_view_module": "@jupyter-widgets/base",
            "_view_module_version": "1.2.0",
            "_view_name": "LayoutView",
            "align_content": null,
            "align_items": null,
            "align_self": null,
            "border": null,
            "bottom": null,
            "display": null,
            "flex": null,
            "flex_flow": null,
            "grid_area": null,
            "grid_auto_columns": null,
            "grid_auto_flow": null,
            "grid_auto_rows": null,
            "grid_column": null,
            "grid_gap": null,
            "grid_row": null,
            "grid_template_areas": null,
            "grid_template_columns": null,
            "grid_template_rows": null,
            "height": null,
            "justify_content": null,
            "justify_items": null,
            "left": null,
            "margin": null,
            "max_height": null,
            "max_width": null,
            "min_height": null,
            "min_width": null,
            "object_fit": null,
            "object_position": null,
            "order": null,
            "overflow": null,
            "overflow_x": null,
            "overflow_y": null,
            "padding": null,
            "right": null,
            "top": null,
            "visibility": null,
            "width": null
          }
        },
        "a963c7bb5eef476bb1b3b550d6b304ca": {
          "model_module": "@jupyter-widgets/controls",
          "model_name": "DescriptionStyleModel",
          "model_module_version": "1.5.0",
          "state": {
            "_model_module": "@jupyter-widgets/controls",
            "_model_module_version": "1.5.0",
            "_model_name": "DescriptionStyleModel",
            "_view_count": null,
            "_view_module": "@jupyter-widgets/base",
            "_view_module_version": "1.2.0",
            "_view_name": "StyleView",
            "description_width": ""
          }
        },
        "edd0e44d34f34c79960f3bf2adbc735b": {
          "model_module": "@jupyter-widgets/base",
          "model_name": "LayoutModel",
          "model_module_version": "1.2.0",
          "state": {
            "_model_module": "@jupyter-widgets/base",
            "_model_module_version": "1.2.0",
            "_model_name": "LayoutModel",
            "_view_count": null,
            "_view_module": "@jupyter-widgets/base",
            "_view_module_version": "1.2.0",
            "_view_name": "LayoutView",
            "align_content": null,
            "align_items": null,
            "align_self": null,
            "border": null,
            "bottom": null,
            "display": null,
            "flex": null,
            "flex_flow": null,
            "grid_area": null,
            "grid_auto_columns": null,
            "grid_auto_flow": null,
            "grid_auto_rows": null,
            "grid_column": null,
            "grid_gap": null,
            "grid_row": null,
            "grid_template_areas": null,
            "grid_template_columns": null,
            "grid_template_rows": null,
            "height": null,
            "justify_content": null,
            "justify_items": null,
            "left": null,
            "margin": null,
            "max_height": null,
            "max_width": null,
            "min_height": null,
            "min_width": null,
            "object_fit": null,
            "object_position": null,
            "order": null,
            "overflow": null,
            "overflow_x": null,
            "overflow_y": null,
            "padding": null,
            "right": null,
            "top": null,
            "visibility": null,
            "width": null
          }
        },
        "9229ca234ca5415bb8f3f998bef3c626": {
          "model_module": "@jupyter-widgets/controls",
          "model_name": "ProgressStyleModel",
          "model_module_version": "1.5.0",
          "state": {
            "_model_module": "@jupyter-widgets/controls",
            "_model_module_version": "1.5.0",
            "_model_name": "ProgressStyleModel",
            "_view_count": null,
            "_view_module": "@jupyter-widgets/base",
            "_view_module_version": "1.2.0",
            "_view_name": "StyleView",
            "bar_color": null,
            "description_width": ""
          }
        },
        "4fcc74e9304c49318a5f99711b72243d": {
          "model_module": "@jupyter-widgets/base",
          "model_name": "LayoutModel",
          "model_module_version": "1.2.0",
          "state": {
            "_model_module": "@jupyter-widgets/base",
            "_model_module_version": "1.2.0",
            "_model_name": "LayoutModel",
            "_view_count": null,
            "_view_module": "@jupyter-widgets/base",
            "_view_module_version": "1.2.0",
            "_view_name": "LayoutView",
            "align_content": null,
            "align_items": null,
            "align_self": null,
            "border": null,
            "bottom": null,
            "display": null,
            "flex": null,
            "flex_flow": null,
            "grid_area": null,
            "grid_auto_columns": null,
            "grid_auto_flow": null,
            "grid_auto_rows": null,
            "grid_column": null,
            "grid_gap": null,
            "grid_row": null,
            "grid_template_areas": null,
            "grid_template_columns": null,
            "grid_template_rows": null,
            "height": null,
            "justify_content": null,
            "justify_items": null,
            "left": null,
            "margin": null,
            "max_height": null,
            "max_width": null,
            "min_height": null,
            "min_width": null,
            "object_fit": null,
            "object_position": null,
            "order": null,
            "overflow": null,
            "overflow_x": null,
            "overflow_y": null,
            "padding": null,
            "right": null,
            "top": null,
            "visibility": null,
            "width": null
          }
        },
        "f776cafcd36f4ff6b1b78c8c2a743ff8": {
          "model_module": "@jupyter-widgets/controls",
          "model_name": "DescriptionStyleModel",
          "model_module_version": "1.5.0",
          "state": {
            "_model_module": "@jupyter-widgets/controls",
            "_model_module_version": "1.5.0",
            "_model_name": "DescriptionStyleModel",
            "_view_count": null,
            "_view_module": "@jupyter-widgets/base",
            "_view_module_version": "1.2.0",
            "_view_name": "StyleView",
            "description_width": ""
          }
        },
        "ac6432dad6374c2589bdac55842b1f0a": {
          "model_module": "@jupyter-widgets/controls",
          "model_name": "HBoxModel",
          "model_module_version": "1.5.0",
          "state": {
            "_dom_classes": [],
            "_model_module": "@jupyter-widgets/controls",
            "_model_module_version": "1.5.0",
            "_model_name": "HBoxModel",
            "_view_count": null,
            "_view_module": "@jupyter-widgets/controls",
            "_view_module_version": "1.5.0",
            "_view_name": "HBoxView",
            "box_style": "",
            "children": [
              "IPY_MODEL_2111f0526f7e445d9e6a0decc93f8230",
              "IPY_MODEL_f86e7510889b457c81418fbcd4376bc8",
              "IPY_MODEL_7103e892d2fb46c5a065e8f8684c7ca0"
            ],
            "layout": "IPY_MODEL_d2c109afba504872bd0bca284def3ca7"
          }
        },
        "2111f0526f7e445d9e6a0decc93f8230": {
          "model_module": "@jupyter-widgets/controls",
          "model_name": "HTMLModel",
          "model_module_version": "1.5.0",
          "state": {
            "_dom_classes": [],
            "_model_module": "@jupyter-widgets/controls",
            "_model_module_version": "1.5.0",
            "_model_name": "HTMLModel",
            "_view_count": null,
            "_view_module": "@jupyter-widgets/controls",
            "_view_module_version": "1.5.0",
            "_view_name": "HTMLView",
            "description": "",
            "description_tooltip": null,
            "layout": "IPY_MODEL_25a71af968ef492a9d6ea2be1862288b",
            "placeholder": "​",
            "style": "IPY_MODEL_f63a1175fdf2448bb8101653d4260279",
            "value": "100%"
          }
        },
        "f86e7510889b457c81418fbcd4376bc8": {
          "model_module": "@jupyter-widgets/controls",
          "model_name": "FloatProgressModel",
          "model_module_version": "1.5.0",
          "state": {
            "_dom_classes": [],
            "_model_module": "@jupyter-widgets/controls",
            "_model_module_version": "1.5.0",
            "_model_name": "FloatProgressModel",
            "_view_count": null,
            "_view_module": "@jupyter-widgets/controls",
            "_view_module_version": "1.5.0",
            "_view_name": "ProgressView",
            "bar_style": "success",
            "description": "",
            "description_tooltip": null,
            "layout": "IPY_MODEL_3b8a8dd585be45e999fde72ebae9bccb",
            "max": 1648877,
            "min": 0,
            "orientation": "horizontal",
            "style": "IPY_MODEL_814ec35f5f5c404c859880dc61f4230b",
            "value": 1648877
          }
        },
        "7103e892d2fb46c5a065e8f8684c7ca0": {
          "model_module": "@jupyter-widgets/controls",
          "model_name": "HTMLModel",
          "model_module_version": "1.5.0",
          "state": {
            "_dom_classes": [],
            "_model_module": "@jupyter-widgets/controls",
            "_model_module_version": "1.5.0",
            "_model_name": "HTMLModel",
            "_view_count": null,
            "_view_module": "@jupyter-widgets/controls",
            "_view_module_version": "1.5.0",
            "_view_name": "HTMLView",
            "description": "",
            "description_tooltip": null,
            "layout": "IPY_MODEL_23cbf66f9bc4436685dabf162f52d3f9",
            "placeholder": "​",
            "style": "IPY_MODEL_1908f3818e7d4ef289831ceb9e1146fd",
            "value": " 1648877/1648877 [00:00&lt;00:00, 23664137.10it/s]"
          }
        },
        "d2c109afba504872bd0bca284def3ca7": {
          "model_module": "@jupyter-widgets/base",
          "model_name": "LayoutModel",
          "model_module_version": "1.2.0",
          "state": {
            "_model_module": "@jupyter-widgets/base",
            "_model_module_version": "1.2.0",
            "_model_name": "LayoutModel",
            "_view_count": null,
            "_view_module": "@jupyter-widgets/base",
            "_view_module_version": "1.2.0",
            "_view_name": "LayoutView",
            "align_content": null,
            "align_items": null,
            "align_self": null,
            "border": null,
            "bottom": null,
            "display": null,
            "flex": null,
            "flex_flow": null,
            "grid_area": null,
            "grid_auto_columns": null,
            "grid_auto_flow": null,
            "grid_auto_rows": null,
            "grid_column": null,
            "grid_gap": null,
            "grid_row": null,
            "grid_template_areas": null,
            "grid_template_columns": null,
            "grid_template_rows": null,
            "height": null,
            "justify_content": null,
            "justify_items": null,
            "left": null,
            "margin": null,
            "max_height": null,
            "max_width": null,
            "min_height": null,
            "min_width": null,
            "object_fit": null,
            "object_position": null,
            "order": null,
            "overflow": null,
            "overflow_x": null,
            "overflow_y": null,
            "padding": null,
            "right": null,
            "top": null,
            "visibility": null,
            "width": null
          }
        },
        "25a71af968ef492a9d6ea2be1862288b": {
          "model_module": "@jupyter-widgets/base",
          "model_name": "LayoutModel",
          "model_module_version": "1.2.0",
          "state": {
            "_model_module": "@jupyter-widgets/base",
            "_model_module_version": "1.2.0",
            "_model_name": "LayoutModel",
            "_view_count": null,
            "_view_module": "@jupyter-widgets/base",
            "_view_module_version": "1.2.0",
            "_view_name": "LayoutView",
            "align_content": null,
            "align_items": null,
            "align_self": null,
            "border": null,
            "bottom": null,
            "display": null,
            "flex": null,
            "flex_flow": null,
            "grid_area": null,
            "grid_auto_columns": null,
            "grid_auto_flow": null,
            "grid_auto_rows": null,
            "grid_column": null,
            "grid_gap": null,
            "grid_row": null,
            "grid_template_areas": null,
            "grid_template_columns": null,
            "grid_template_rows": null,
            "height": null,
            "justify_content": null,
            "justify_items": null,
            "left": null,
            "margin": null,
            "max_height": null,
            "max_width": null,
            "min_height": null,
            "min_width": null,
            "object_fit": null,
            "object_position": null,
            "order": null,
            "overflow": null,
            "overflow_x": null,
            "overflow_y": null,
            "padding": null,
            "right": null,
            "top": null,
            "visibility": null,
            "width": null
          }
        },
        "f63a1175fdf2448bb8101653d4260279": {
          "model_module": "@jupyter-widgets/controls",
          "model_name": "DescriptionStyleModel",
          "model_module_version": "1.5.0",
          "state": {
            "_model_module": "@jupyter-widgets/controls",
            "_model_module_version": "1.5.0",
            "_model_name": "DescriptionStyleModel",
            "_view_count": null,
            "_view_module": "@jupyter-widgets/base",
            "_view_module_version": "1.2.0",
            "_view_name": "StyleView",
            "description_width": ""
          }
        },
        "3b8a8dd585be45e999fde72ebae9bccb": {
          "model_module": "@jupyter-widgets/base",
          "model_name": "LayoutModel",
          "model_module_version": "1.2.0",
          "state": {
            "_model_module": "@jupyter-widgets/base",
            "_model_module_version": "1.2.0",
            "_model_name": "LayoutModel",
            "_view_count": null,
            "_view_module": "@jupyter-widgets/base",
            "_view_module_version": "1.2.0",
            "_view_name": "LayoutView",
            "align_content": null,
            "align_items": null,
            "align_self": null,
            "border": null,
            "bottom": null,
            "display": null,
            "flex": null,
            "flex_flow": null,
            "grid_area": null,
            "grid_auto_columns": null,
            "grid_auto_flow": null,
            "grid_auto_rows": null,
            "grid_column": null,
            "grid_gap": null,
            "grid_row": null,
            "grid_template_areas": null,
            "grid_template_columns": null,
            "grid_template_rows": null,
            "height": null,
            "justify_content": null,
            "justify_items": null,
            "left": null,
            "margin": null,
            "max_height": null,
            "max_width": null,
            "min_height": null,
            "min_width": null,
            "object_fit": null,
            "object_position": null,
            "order": null,
            "overflow": null,
            "overflow_x": null,
            "overflow_y": null,
            "padding": null,
            "right": null,
            "top": null,
            "visibility": null,
            "width": null
          }
        },
        "814ec35f5f5c404c859880dc61f4230b": {
          "model_module": "@jupyter-widgets/controls",
          "model_name": "ProgressStyleModel",
          "model_module_version": "1.5.0",
          "state": {
            "_model_module": "@jupyter-widgets/controls",
            "_model_module_version": "1.5.0",
            "_model_name": "ProgressStyleModel",
            "_view_count": null,
            "_view_module": "@jupyter-widgets/base",
            "_view_module_version": "1.2.0",
            "_view_name": "StyleView",
            "bar_color": null,
            "description_width": ""
          }
        },
        "23cbf66f9bc4436685dabf162f52d3f9": {
          "model_module": "@jupyter-widgets/base",
          "model_name": "LayoutModel",
          "model_module_version": "1.2.0",
          "state": {
            "_model_module": "@jupyter-widgets/base",
            "_model_module_version": "1.2.0",
            "_model_name": "LayoutModel",
            "_view_count": null,
            "_view_module": "@jupyter-widgets/base",
            "_view_module_version": "1.2.0",
            "_view_name": "LayoutView",
            "align_content": null,
            "align_items": null,
            "align_self": null,
            "border": null,
            "bottom": null,
            "display": null,
            "flex": null,
            "flex_flow": null,
            "grid_area": null,
            "grid_auto_columns": null,
            "grid_auto_flow": null,
            "grid_auto_rows": null,
            "grid_column": null,
            "grid_gap": null,
            "grid_row": null,
            "grid_template_areas": null,
            "grid_template_columns": null,
            "grid_template_rows": null,
            "height": null,
            "justify_content": null,
            "justify_items": null,
            "left": null,
            "margin": null,
            "max_height": null,
            "max_width": null,
            "min_height": null,
            "min_width": null,
            "object_fit": null,
            "object_position": null,
            "order": null,
            "overflow": null,
            "overflow_x": null,
            "overflow_y": null,
            "padding": null,
            "right": null,
            "top": null,
            "visibility": null,
            "width": null
          }
        },
        "1908f3818e7d4ef289831ceb9e1146fd": {
          "model_module": "@jupyter-widgets/controls",
          "model_name": "DescriptionStyleModel",
          "model_module_version": "1.5.0",
          "state": {
            "_model_module": "@jupyter-widgets/controls",
            "_model_module_version": "1.5.0",
            "_model_name": "DescriptionStyleModel",
            "_view_count": null,
            "_view_module": "@jupyter-widgets/base",
            "_view_module_version": "1.2.0",
            "_view_name": "StyleView",
            "description_width": ""
          }
        },
        "c2b9a421b6a24897b450494fbc4c4738": {
          "model_module": "@jupyter-widgets/controls",
          "model_name": "HBoxModel",
          "model_module_version": "1.5.0",
          "state": {
            "_dom_classes": [],
            "_model_module": "@jupyter-widgets/controls",
            "_model_module_version": "1.5.0",
            "_model_name": "HBoxModel",
            "_view_count": null,
            "_view_module": "@jupyter-widgets/controls",
            "_view_module_version": "1.5.0",
            "_view_name": "HBoxView",
            "box_style": "",
            "children": [
              "IPY_MODEL_5a079745a3d144d6bd8afa2fdc10f2d7",
              "IPY_MODEL_009d9591d4644cc8abe2a0587622a3b4",
              "IPY_MODEL_341a5e78793144da8d106f4cb1693044"
            ],
            "layout": "IPY_MODEL_5d33c41a246a47f99f6f85c799435f34"
          }
        },
        "5a079745a3d144d6bd8afa2fdc10f2d7": {
          "model_module": "@jupyter-widgets/controls",
          "model_name": "HTMLModel",
          "model_module_version": "1.5.0",
          "state": {
            "_dom_classes": [],
            "_model_module": "@jupyter-widgets/controls",
            "_model_module_version": "1.5.0",
            "_model_name": "HTMLModel",
            "_view_count": null,
            "_view_module": "@jupyter-widgets/controls",
            "_view_module_version": "1.5.0",
            "_view_name": "HTMLView",
            "description": "",
            "description_tooltip": null,
            "layout": "IPY_MODEL_1e201addb1404ff08a53fedda2a74414",
            "placeholder": "​",
            "style": "IPY_MODEL_ab5c22314dad4be49fd8284609156668",
            "value": "100%"
          }
        },
        "009d9591d4644cc8abe2a0587622a3b4": {
          "model_module": "@jupyter-widgets/controls",
          "model_name": "FloatProgressModel",
          "model_module_version": "1.5.0",
          "state": {
            "_dom_classes": [],
            "_model_module": "@jupyter-widgets/controls",
            "_model_module_version": "1.5.0",
            "_model_name": "FloatProgressModel",
            "_view_count": null,
            "_view_module": "@jupyter-widgets/controls",
            "_view_module_version": "1.5.0",
            "_view_name": "ProgressView",
            "bar_style": "success",
            "description": "",
            "description_tooltip": null,
            "layout": "IPY_MODEL_bdfc2c6fa5fa4de6870317ac42102c5b",
            "max": 4542,
            "min": 0,
            "orientation": "horizontal",
            "style": "IPY_MODEL_5deb4a4e0614410fb58d9dfb08cf8eb3",
            "value": 4542
          }
        },
        "341a5e78793144da8d106f4cb1693044": {
          "model_module": "@jupyter-widgets/controls",
          "model_name": "HTMLModel",
          "model_module_version": "1.5.0",
          "state": {
            "_dom_classes": [],
            "_model_module": "@jupyter-widgets/controls",
            "_model_module_version": "1.5.0",
            "_model_name": "HTMLModel",
            "_view_count": null,
            "_view_module": "@jupyter-widgets/controls",
            "_view_module_version": "1.5.0",
            "_view_name": "HTMLView",
            "description": "",
            "description_tooltip": null,
            "layout": "IPY_MODEL_fb7cdb81c6664c3f8b7efda8ff922e0a",
            "placeholder": "​",
            "style": "IPY_MODEL_53cab885127d4c5d9041722b7f250562",
            "value": " 4542/4542 [00:00&lt;00:00, 335042.71it/s]"
          }
        },
        "5d33c41a246a47f99f6f85c799435f34": {
          "model_module": "@jupyter-widgets/base",
          "model_name": "LayoutModel",
          "model_module_version": "1.2.0",
          "state": {
            "_model_module": "@jupyter-widgets/base",
            "_model_module_version": "1.2.0",
            "_model_name": "LayoutModel",
            "_view_count": null,
            "_view_module": "@jupyter-widgets/base",
            "_view_module_version": "1.2.0",
            "_view_name": "LayoutView",
            "align_content": null,
            "align_items": null,
            "align_self": null,
            "border": null,
            "bottom": null,
            "display": null,
            "flex": null,
            "flex_flow": null,
            "grid_area": null,
            "grid_auto_columns": null,
            "grid_auto_flow": null,
            "grid_auto_rows": null,
            "grid_column": null,
            "grid_gap": null,
            "grid_row": null,
            "grid_template_areas": null,
            "grid_template_columns": null,
            "grid_template_rows": null,
            "height": null,
            "justify_content": null,
            "justify_items": null,
            "left": null,
            "margin": null,
            "max_height": null,
            "max_width": null,
            "min_height": null,
            "min_width": null,
            "object_fit": null,
            "object_position": null,
            "order": null,
            "overflow": null,
            "overflow_x": null,
            "overflow_y": null,
            "padding": null,
            "right": null,
            "top": null,
            "visibility": null,
            "width": null
          }
        },
        "1e201addb1404ff08a53fedda2a74414": {
          "model_module": "@jupyter-widgets/base",
          "model_name": "LayoutModel",
          "model_module_version": "1.2.0",
          "state": {
            "_model_module": "@jupyter-widgets/base",
            "_model_module_version": "1.2.0",
            "_model_name": "LayoutModel",
            "_view_count": null,
            "_view_module": "@jupyter-widgets/base",
            "_view_module_version": "1.2.0",
            "_view_name": "LayoutView",
            "align_content": null,
            "align_items": null,
            "align_self": null,
            "border": null,
            "bottom": null,
            "display": null,
            "flex": null,
            "flex_flow": null,
            "grid_area": null,
            "grid_auto_columns": null,
            "grid_auto_flow": null,
            "grid_auto_rows": null,
            "grid_column": null,
            "grid_gap": null,
            "grid_row": null,
            "grid_template_areas": null,
            "grid_template_columns": null,
            "grid_template_rows": null,
            "height": null,
            "justify_content": null,
            "justify_items": null,
            "left": null,
            "margin": null,
            "max_height": null,
            "max_width": null,
            "min_height": null,
            "min_width": null,
            "object_fit": null,
            "object_position": null,
            "order": null,
            "overflow": null,
            "overflow_x": null,
            "overflow_y": null,
            "padding": null,
            "right": null,
            "top": null,
            "visibility": null,
            "width": null
          }
        },
        "ab5c22314dad4be49fd8284609156668": {
          "model_module": "@jupyter-widgets/controls",
          "model_name": "DescriptionStyleModel",
          "model_module_version": "1.5.0",
          "state": {
            "_model_module": "@jupyter-widgets/controls",
            "_model_module_version": "1.5.0",
            "_model_name": "DescriptionStyleModel",
            "_view_count": null,
            "_view_module": "@jupyter-widgets/base",
            "_view_module_version": "1.2.0",
            "_view_name": "StyleView",
            "description_width": ""
          }
        },
        "bdfc2c6fa5fa4de6870317ac42102c5b": {
          "model_module": "@jupyter-widgets/base",
          "model_name": "LayoutModel",
          "model_module_version": "1.2.0",
          "state": {
            "_model_module": "@jupyter-widgets/base",
            "_model_module_version": "1.2.0",
            "_model_name": "LayoutModel",
            "_view_count": null,
            "_view_module": "@jupyter-widgets/base",
            "_view_module_version": "1.2.0",
            "_view_name": "LayoutView",
            "align_content": null,
            "align_items": null,
            "align_self": null,
            "border": null,
            "bottom": null,
            "display": null,
            "flex": null,
            "flex_flow": null,
            "grid_area": null,
            "grid_auto_columns": null,
            "grid_auto_flow": null,
            "grid_auto_rows": null,
            "grid_column": null,
            "grid_gap": null,
            "grid_row": null,
            "grid_template_areas": null,
            "grid_template_columns": null,
            "grid_template_rows": null,
            "height": null,
            "justify_content": null,
            "justify_items": null,
            "left": null,
            "margin": null,
            "max_height": null,
            "max_width": null,
            "min_height": null,
            "min_width": null,
            "object_fit": null,
            "object_position": null,
            "order": null,
            "overflow": null,
            "overflow_x": null,
            "overflow_y": null,
            "padding": null,
            "right": null,
            "top": null,
            "visibility": null,
            "width": null
          }
        },
        "5deb4a4e0614410fb58d9dfb08cf8eb3": {
          "model_module": "@jupyter-widgets/controls",
          "model_name": "ProgressStyleModel",
          "model_module_version": "1.5.0",
          "state": {
            "_model_module": "@jupyter-widgets/controls",
            "_model_module_version": "1.5.0",
            "_model_name": "ProgressStyleModel",
            "_view_count": null,
            "_view_module": "@jupyter-widgets/base",
            "_view_module_version": "1.2.0",
            "_view_name": "StyleView",
            "bar_color": null,
            "description_width": ""
          }
        },
        "fb7cdb81c6664c3f8b7efda8ff922e0a": {
          "model_module": "@jupyter-widgets/base",
          "model_name": "LayoutModel",
          "model_module_version": "1.2.0",
          "state": {
            "_model_module": "@jupyter-widgets/base",
            "_model_module_version": "1.2.0",
            "_model_name": "LayoutModel",
            "_view_count": null,
            "_view_module": "@jupyter-widgets/base",
            "_view_module_version": "1.2.0",
            "_view_name": "LayoutView",
            "align_content": null,
            "align_items": null,
            "align_self": null,
            "border": null,
            "bottom": null,
            "display": null,
            "flex": null,
            "flex_flow": null,
            "grid_area": null,
            "grid_auto_columns": null,
            "grid_auto_flow": null,
            "grid_auto_rows": null,
            "grid_column": null,
            "grid_gap": null,
            "grid_row": null,
            "grid_template_areas": null,
            "grid_template_columns": null,
            "grid_template_rows": null,
            "height": null,
            "justify_content": null,
            "justify_items": null,
            "left": null,
            "margin": null,
            "max_height": null,
            "max_width": null,
            "min_height": null,
            "min_width": null,
            "object_fit": null,
            "object_position": null,
            "order": null,
            "overflow": null,
            "overflow_x": null,
            "overflow_y": null,
            "padding": null,
            "right": null,
            "top": null,
            "visibility": null,
            "width": null
          }
        },
        "53cab885127d4c5d9041722b7f250562": {
          "model_module": "@jupyter-widgets/controls",
          "model_name": "DescriptionStyleModel",
          "model_module_version": "1.5.0",
          "state": {
            "_model_module": "@jupyter-widgets/controls",
            "_model_module_version": "1.5.0",
            "_model_name": "DescriptionStyleModel",
            "_view_count": null,
            "_view_module": "@jupyter-widgets/base",
            "_view_module_version": "1.2.0",
            "_view_name": "StyleView",
            "description_width": ""
          }
        }
      }
    }
  },
  "cells": [
    {
      "cell_type": "markdown",
      "metadata": {
        "id": "view-in-github",
        "colab_type": "text"
      },
      "source": [
        "<a href=\"https://colab.research.google.com/github/heinhtet14/Machine_Learning_Bootcamp/blob/main/Wk1-part-2-Intro_PyTorch.ipynb\" target=\"_parent\"><img src=\"https://colab.research.google.com/assets/colab-badge.svg\" alt=\"Open In Colab\"/></a>"
      ]
    },
    {
      "cell_type": "markdown",
      "source": [
        "# **# Let's start with Pytorch:-**\n",
        "PyTorch is a library for Python programs that facilitates building deep learning projects PyTorch supports dynamic computational graphs, which means the network behavior can be changed programmatically at runtime. This facilitates more efficient model optimization and gives PyTorch a major advantage over other machine learning frameworks, which treat neural networks as static objects. If you want to explore Deep learning then Pytorch is your friend Kindly head to https://pytorch.org/docs/master/nn.html to unvail the beauty of Pytorch library\n",
        "![download (1).png](data:image/png;base64,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)\n",
        "\n"
      ],
      "metadata": {
        "id": "kh4XbiY1Ig8x"
      }
    },
    {
      "cell_type": "markdown",
      "source": [
        "# **Basic Tensor Initialization**"
      ],
      "metadata": {
        "id": "0-5aurkbJrtW"
      }
    },
    {
      "cell_type": "code",
      "source": [
        "import torch # We start by importing PyTorch Library"
      ],
      "metadata": {
        "id": "4RkfscfLJd5a"
      },
      "execution_count": null,
      "outputs": []
    },
    {
      "cell_type": "code",
      "source": [
        "device = \"cuda\" if torch.cuda.is_available() else \"cpu\""
      ],
      "metadata": {
        "id": "oWwf68aWMxRr"
      },
      "execution_count": null,
      "outputs": []
    },
    {
      "cell_type": "code",
      "source": [
        "my_tensor = torch.tensor([[1,2,3], [4,5,6]], dtype=torch.float32,\n",
        "                         device=device) # We created a tensor which consists of two rows 3 columns ; [1,2,3] : 1st row, [4,5,6] : 2nd row\n",
        "print(my_tensor)"
      ],
      "metadata": {
        "colab": {
          "base_uri": "https://localhost:8080/"
        },
        "id": "RHT6gK9JKc0D",
        "outputId": "76868f02-0849-4c1d-aef3-317fc7a02c59"
      },
      "execution_count": null,
      "outputs": [
        {
          "output_type": "stream",
          "name": "stdout",
          "text": [
            "tensor([[1., 2., 3.],\n",
            "        [4., 5., 6.]], device='cuda:0')\n"
          ]
        }
      ]
    },
    {
      "cell_type": "code",
      "source": [
        "# Other Useful Attributes of Tensor\n",
        "print(my_tensor.dtype) # print your tensor datatype\n",
        "print(my_tensor.device)# print which device your tensor is on\n",
        "print(my_tensor.shape) # shape of your tensor"
      ],
      "metadata": {
        "colab": {
          "base_uri": "https://localhost:8080/"
        },
        "id": "wXWqmkxPLSWA",
        "outputId": "450bdcd0-3a54-4db7-b36a-6823003e3dfb"
      },
      "execution_count": null,
      "outputs": [
        {
          "output_type": "stream",
          "name": "stdout",
          "text": [
            "torch.float32\n",
            "cuda:0\n",
            "torch.Size([2, 3])\n"
          ]
        }
      ]
    },
    {
      "cell_type": "code",
      "source": [
        "# Other Common Initialization Methods\n",
        "x = torch.empty(size= (3,3)) # Create an empty set of 3x3 matrix or tensor. There is no zero\n",
        "x = torch.zeros((3,3))       # A tensor with zeros\n",
        "x = torch.rand((3,3))        # A random tensor between 0 and 1\n",
        "x = torch.ones((3,3))        # A 3x3 matrix of ones\n",
        "x = torch.eye(5,5)         # Create an identity matrix , I = eye\n",
        "print(x)"
      ],
      "metadata": {
        "colab": {
          "base_uri": "https://localhost:8080/"
        },
        "id": "9tPsWDRxNoim",
        "outputId": "f59fb8fa-15f8-4840-8578-63e486b34d0d"
      },
      "execution_count": null,
      "outputs": [
        {
          "output_type": "stream",
          "name": "stdout",
          "text": [
            "tensor([[1., 0., 0., 0., 0.],\n",
            "        [0., 1., 0., 0., 0.],\n",
            "        [0., 0., 1., 0., 0.],\n",
            "        [0., 0., 0., 1., 0.],\n",
            "        [0., 0., 0., 0., 1.]])\n"
          ]
        }
      ]
    },
    {
      "cell_type": "code",
      "source": [
        "# Basic Tensor Operations\n",
        "sum_x = torch.sum(x, dim=0)\n",
        "values, indices = torch.max(x, dim=0) # Returns the values and the indices of the maximum values\n",
        "values, indices = torch.min(x, dim=0) # Returns the values and the indices of the min values\n",
        "abs_x = torch.abs(x) # Absolute Value\n",
        "z = torch.argmax(x, dim=0) # Same thing as torch.max but only returns the index of the one that is the maximum\n"
      ],
      "metadata": {
        "id": "0lfSs7mjZcBZ"
      },
      "execution_count": null,
      "outputs": []
    },
    {
      "cell_type": "code",
      "source": [
        "# Tensor Indexing\n",
        "# For example, we have a batch size of 10 and 25 features in a batch\n",
        "batch_size = 10\n",
        "features   = 25\n",
        "x = torch.rand((batch_size, features))\n",
        "\n",
        "# Let's say we want to get a feature of first example\n",
        "print(x[0].shape) # It is the same as x[0,:] where 0 = first example of the batch,  : = represents all the features\n",
        "\n",
        "# First feature of all example\n",
        "print(x[:,0].shape)\n"
      ],
      "metadata": {
        "colab": {
          "base_uri": "https://localhost:8080/"
        },
        "id": "ZbwkU8GRdiTZ",
        "outputId": "82507554-7aaf-4640-dc19-ae3e7b1c3027"
      },
      "execution_count": null,
      "outputs": [
        {
          "output_type": "stream",
          "name": "stdout",
          "text": [
            "torch.Size([25])\n",
            "tensor([0.7348, 0.2161, 0.3553, 0.0185, 0.0885, 0.7970, 0.7857, 0.7306, 0.5689,\n",
            "        0.7863])\n"
          ]
        }
      ]
    },
    {
      "cell_type": "code",
      "source": [
        "tensor1 = torch.Tensor([1, 2, 3])\n",
        "# Reshaping a Tensor\n",
        "tensor2 = torch.reshape(tensor1, (3, 1)) # Reshaping the original tensor (1x3) to (3x1) dimension\n",
        "print(tensor2)\n",
        "\n",
        "# Element-wise Operations\n",
        "tensor3 = tensor1 + tensor2\n",
        "print(tensor3)\n",
        "\n",
        "# Matrix Operations\n",
        "tensor4 = torch.matmul(tensor2, tensor2.T) # Matrix multiplication\n",
        "print(tensor4)\n",
        "\n",
        "# Indexing and Slicing\n",
        "print(tensor1[0])\n",
        "print(tensor1[0:2])\n",
        "\n",
        "# Broadcasting allows you to perform operations between tensors of different shapes or sizes without having to explicitly reshape or expand them\n",
        "# Creating two tensors of different shapes which are immposible to calculate in mathematical terms but operatable in PyTorch\n",
        "#tensor5 = torch.Tensor([1, 2, 3])\n",
        "tensor5 = torch.Tensor([1, 2])\n",
        "tensor6 = torch.Tensor([[1, 2], [3, 4], [5, 6]])\n",
        "tensor7 = tensor5 + tensor6\n",
        "print(tensor7)\n",
        "\n",
        "# Concatenation\n",
        "tensor8 = torch.Tensor([4, 5, 6])\n",
        "tensor9 = torch.cat([tensor1, tensor8], dim=0)\n",
        "print(tensor9)"
      ],
      "metadata": {
        "colab": {
          "base_uri": "https://localhost:8080/"
        },
        "id": "6LO3G3itcI-i",
        "outputId": "0f17cec1-b9d7-4dcb-aab2-ded5c96f5a40"
      },
      "execution_count": null,
      "outputs": [
        {
          "output_type": "stream",
          "name": "stdout",
          "text": [
            "tensor([[1.],\n",
            "        [2.],\n",
            "        [3.]])\n",
            "tensor([[2., 3., 4.],\n",
            "        [3., 4., 5.],\n",
            "        [4., 5., 6.]])\n",
            "tensor([[1., 2., 3.],\n",
            "        [2., 4., 6.],\n",
            "        [3., 6., 9.]])\n",
            "tensor(1.)\n",
            "tensor([1., 2.])\n",
            "tensor([[2., 4.],\n",
            "        [4., 6.],\n",
            "        [6., 8.]])\n",
            "tensor([1., 2., 3., 4., 5., 6.])\n"
          ]
        }
      ]
    },
    {
      "cell_type": "markdown",
      "source": [
        "# **Autograd**\n",
        " Autograd allows PyTorch to automatically and efficiently calculate the gradients of a function with respect to its inputs using the chain rule of calculus."
      ],
      "metadata": {
        "id": "C-HoEfGUQzoV"
      }
    },
    {
      "cell_type": "code",
      "source": [
        "# Define a tensor with requires_grad=True to track the gradient\n",
        "x = torch.tensor([1.0, 2.0, 3.0], requires_grad=True)\n",
        "\n",
        "# Define a function to compute the output\n",
        "def forward(x):\n",
        "    y = x**2 + 2*x + 1\n",
        "    return y.sum()\n",
        "    # Compute the output of the function\n",
        "y = forward(x)\n",
        "print(y)\n",
        "\n",
        "# Compute the gradients of the output with respect to the input\n",
        "y.backward()\n",
        "\n",
        "# Print the gradients of the input tensor\n",
        "print(x.grad)"
      ],
      "metadata": {
        "colab": {
          "base_uri": "https://localhost:8080/"
        },
        "id": "O2QF555eOKyH",
        "outputId": "3a6f6334-6932-429f-db26-5b659d736b2f"
      },
      "execution_count": null,
      "outputs": [
        {
          "output_type": "stream",
          "name": "stdout",
          "text": [
            "tensor(29., grad_fn=<SumBackward0>)\n",
            "tensor([4., 6., 8.])\n"
          ]
        }
      ]
    },
    {
      "cell_type": "markdown",
      "source": [
        "# **Introduction to Neural Networks**\n",
        "We will discuss about defining the layers, activation functions, loss function and optimizer step by step"
      ],
      "metadata": {
        "id": "hHc5NmIqjS7W"
      }
    },
    {
      "cell_type": "code",
      "source": [
        "# Import classes to inherit in order to define the neural network\n",
        "import torch.nn as nn\n",
        "import torch.optim as optim\n",
        "import matplotlib.pyplot as plt"
      ],
      "metadata": {
        "id": "s1Pe6dS1jja6"
      },
      "execution_count": null,
      "outputs": []
    },
    {
      "cell_type": "code",
      "source": [
        "# Define the neural network architecture\n",
        "class Net:\n",
        "    def __init__(self):\n",
        "        self.fc1_w = torch.randn(2, 4, requires_grad=True) # input layer (2 nodes) -> hidden layer (4 nodes)\n",
        "        self.fc1_b = torch.randn(4, requires_grad=True)\n",
        "        self.fc2_w = torch.randn(4, 1, requires_grad=True) # hidden layer (4 nodes) -> output layer (1 node)\n",
        "        self.fc2_b = torch.randn(1, requires_grad=True)\n",
        "\n",
        "    def forward(self, x):\n",
        "        x = torch.sigmoid(torch.matmul(x, self.fc1_w) + self.fc1_b)\n",
        "        x = torch.matmul(x, self.fc2_w) + self.fc2_b\n",
        "        return x"
      ],
      "metadata": {
        "id": "5ydFQzaHjuBW"
      },
      "execution_count": null,
      "outputs": []
    },
    {
      "cell_type": "code",
      "source": [
        "# Define the loss function\n",
        "criterion = nn.MSELoss()"
      ],
      "metadata": {
        "id": "xli5vmO7kULc"
      },
      "execution_count": null,
      "outputs": []
    },
    {
      "cell_type": "code",
      "source": [
        "# Define the optimizer\n",
        "net = Net()\n",
        "optimizer = torch.optim.SGD([net.fc1_w, net.fc1_b, net.fc2_w, net.fc2_b], lr=0.1)"
      ],
      "metadata": {
        "id": "4slzl36fkWsz"
      },
      "execution_count": null,
      "outputs": []
    },
    {
      "cell_type": "code",
      "source": [
        "# Define the training data\n",
        "train_data = torch.tensor([[0, 0], [0, 1], [1, 0], [1, 1]], dtype=torch.float32)\n",
        "train_labels = torch.tensor([[0], [1], [1], [0]], dtype=torch.float32)"
      ],
      "metadata": {
        "id": "1T-MXTmmkYev"
      },
      "execution_count": null,
      "outputs": []
    },
    {
      "cell_type": "code",
      "source": [
        "# Train the neural network\n",
        "loss_values = []\n",
        "for epoch in range(1000):\n",
        "    optimizer.zero_grad()\n",
        "    outputs = net.forward(train_data)\n",
        "    loss = criterion(outputs, train_labels)\n",
        "    loss.backward()\n",
        "    optimizer.step()\n",
        "    loss_values.append(loss.item())\n",
        "\n",
        "# Plot the loss curve\n",
        "plt.plot(loss_values)\n",
        "plt.xlabel('Epoch')\n",
        "plt.ylabel('Loss')\n",
        "plt.show()"
      ],
      "metadata": {
        "colab": {
          "base_uri": "https://localhost:8080/",
          "height": 279
        },
        "id": "rRr-rsrIkaYQ",
        "outputId": "2d320ae0-f8d6-4a60-a531-48cc4531e683"
      },
      "execution_count": null,
      "outputs": [
        {
          "output_type": "display_data",
          "data": {
            "text/plain": [
              "<Figure size 432x288 with 1 Axes>"
            ],
            "image/png": "[encoded data removed]"
          },
          "metadata": {
            "needs_background": "light"
          }
        }
      ]
    },
    {
      "cell_type": "code",
      "source": [
        "# Evaluate the trained neural network\n",
        "test_data = torch.tensor([[0, 0], [0, 1], [1, 0], [1, 1]], dtype=torch.float32)\n",
        "test_labels = net.forward(test_data)\n",
        "print(test_labels)"
      ],
      "metadata": {
        "colab": {
          "base_uri": "https://localhost:8080/"
        },
        "id": "1WdbiQ6jlG6-",
        "outputId": "63c5d5ca-4fc0-4014-9181-7cf8a7aa79d4"
      },
      "execution_count": null,
      "outputs": [
        {
          "output_type": "stream",
          "name": "stdout",
          "text": [
            "tensor([[0.0014],\n",
            "        [0.9982],\n",
            "        [0.9982],\n",
            "        [0.0025]], grad_fn=<AddBackward0>)\n"
          ]
        }
      ]
    },
    {
      "cell_type": "markdown",
      "source": [
        "# **Toy Project for Neural Network PyTorch ( ANN Artificial Neural Network )**"
      ],
      "metadata": {
        "id": "-f2n8votCs72"
      }
    },
    {
      "cell_type": "code",
      "source": [
        "# Import essential libraries of PyTorch\n",
        "import torch\n",
        "import torch.nn as nn\n",
        "import torch.optim as optim\n",
        "import torch.nn.functional as f\n",
        "from torch.utils.data import DataLoader\n",
        "import torchvision.datasets as datasets\n",
        "import torchvision.transforms as transforms"
      ],
      "metadata": {
        "id": "GOBfCxJnDLGC"
      },
      "execution_count": null,
      "outputs": []
    },
    {
      "cell_type": "code",
      "source": [
        "#create fully connected network\n",
        "class NN(nn.Module):\n",
        "    def __init__(self,input_size,num_classes):\n",
        "        super(NN,self).__init__() #inherited init from nn.Module(parent)\n",
        "        self.fc1 = nn.Linear(input_size,50) #layer 1 >> input node = 784\n",
        "        self.fc2 = nn.Linear(50, 90)  # hidden layer have 50 nodes\n",
        "        self.fc3 = nn.Linear(90,num_classes) # hidden layer have 50 nodes\n",
        "        self.dropout = nn.Dropout(0.25)\n",
        "        self.bn11 = nn.BatchNorm1d(50)\n",
        "        self.bn12 = nn.BatchNorm1d(90)\n",
        "\n",
        "    def forward(self,x):\n",
        "        x = f.leaky_relu(self.fc1(x),negative_slope=0.01)\n",
        "        x = self.bn11(x)\n",
        "        x = f.leaky_relu(self.fc2(x),negative_slope=0.01)\n",
        "        x = self.dropout(x)\n",
        "        x = self.bn12(x)\n",
        "        x = self.fc3(x)\n",
        "        return x"
      ],
      "metadata": {
        "id": "zONJkP1vDY_D"
      },
      "execution_count": null,
      "outputs": []
    },
    {
      "cell_type": "code",
      "source": [
        "#set device\n",
        "device = torch.device('cuda' if torch.cuda.is_available() else 'cpu')"
      ],
      "metadata": {
        "id": "4NQx_j8GEI8C"
      },
      "execution_count": null,
      "outputs": []
    },
    {
      "cell_type": "code",
      "source": [
        "input_size = 784 # MNIST input = 28x28\n",
        "num_classes = 10\n",
        "learning_rate = 0.001\n",
        "batch_size = 64\n",
        "num_epochs = 5\n",
        "#load data\n",
        "train_dataset = datasets.MNIST(root='dataset/',train=True, transform =transforms.ToTensor(),download=True)\n",
        "train_loader = DataLoader(dataset=train_dataset, batch_size=batch_size, shuffle=True)\n",
        "\n",
        "test_dataset = datasets.MNIST(root='dataset/',train=False, transform =transforms.ToTensor(),download=True)\n",
        "test_loader = DataLoader(dataset=test_dataset, batch_size=batch_size, shuffle=True)"
      ],
      "metadata": {
        "colab": {
          "base_uri": "https://localhost:8080/",
          "height": 423,
          "referenced_widgets": [
            "185282a705fc4c3f9f9ec3d1359bc16a",
            "6fbc1af133f140c6b4cbeddd1e868f83",
            "1c02ecd0e62e433f886e0a0443c59ad8",
            "63341649066049d58094f94702e73f79",
            "422113f4a92d4329bc5b490a1d7da9dc",
            "86810ca83e4c41a98215e9cd61305e1d",
            "4e6bbfd9efe547a1ac46028e4dab42f4",
            "54406f1db08742b8b2cde1e2055f2db8",
            "f39f5d0bbca742cdaaf0bddd0e6d2f2f",
            "b70c0bf76bba444b8e9042b0601a2477",
            "1cb1578e33a244c780da047c15dab19d",
            "47b8c15125cf4c1f8571bf765ab34f31",
            "ca57337eac7e4a5ab50d437b1c9e2a90",
            "c5097d8d09f14e4bb61fe2b37b844632",
            "e1a6a41b17df4b8195f603204c540230",
            "b29700dce2a24cd0a77d0627e2ce7acd",
            "006038d3fb11428b9b9fbc2236b1273b",
            "a963c7bb5eef476bb1b3b550d6b304ca",
            "edd0e44d34f34c79960f3bf2adbc735b",
            "9229ca234ca5415bb8f3f998bef3c626",
            "4fcc74e9304c49318a5f99711b72243d",
            "f776cafcd36f4ff6b1b78c8c2a743ff8",
            "ac6432dad6374c2589bdac55842b1f0a",
            "2111f0526f7e445d9e6a0decc93f8230",
            "f86e7510889b457c81418fbcd4376bc8",
            "7103e892d2fb46c5a065e8f8684c7ca0",
            "d2c109afba504872bd0bca284def3ca7",
            "25a71af968ef492a9d6ea2be1862288b",
            "f63a1175fdf2448bb8101653d4260279",
            "3b8a8dd585be45e999fde72ebae9bccb",
            "814ec35f5f5c404c859880dc61f4230b",
            "23cbf66f9bc4436685dabf162f52d3f9",
            "1908f3818e7d4ef289831ceb9e1146fd",
            "c2b9a421b6a24897b450494fbc4c4738",
            "5a079745a3d144d6bd8afa2fdc10f2d7",
            "009d9591d4644cc8abe2a0587622a3b4",
            "341a5e78793144da8d106f4cb1693044",
            "5d33c41a246a47f99f6f85c799435f34",
            "1e201addb1404ff08a53fedda2a74414",
            "ab5c22314dad4be49fd8284609156668",
            "bdfc2c6fa5fa4de6870317ac42102c5b",
            "5deb4a4e0614410fb58d9dfb08cf8eb3",
            "fb7cdb81c6664c3f8b7efda8ff922e0a",
            "53cab885127d4c5d9041722b7f250562"
          ]
        },
        "id": "ASLtDvPOELFu",
        "outputId": "89925a31-1051-4878-9517-c91ddfad1cc6"
      },
      "execution_count": null,
      "outputs": [
        {
          "output_type": "stream",
          "name": "stdout",
          "text": [
            "Downloading http://yann.lecun.com/exdb/mnist/train-images-idx3-ubyte.gz\n",
            "Downloading http://yann.lecun.com/exdb/mnist/train-images-idx3-ubyte.gz to dataset/MNIST/raw/train-images-idx3-ubyte.gz\n"
          ]
        },
        {
          "output_type": "display_data",
          "data": {
            "text/plain": [
              "  0%|          | 0/9912422 [00:00<?, ?it/s]"
            ],
            "application/vnd.jupyter.widget-view+json": {
              "version_major": 2,
              "version_minor": 0,
              "model_id": "185282a705fc4c3f9f9ec3d1359bc16a"
            }
          },
          "metadata": {}
        },
        {
          "output_type": "stream",
          "name": "stdout",
          "text": [
            "Extracting dataset/MNIST/raw/train-images-idx3-ubyte.gz to dataset/MNIST/raw\n",
            "\n",
            "Downloading http://yann.lecun.com/exdb/mnist/train-labels-idx1-ubyte.gz\n",
            "Downloading http://yann.lecun.com/exdb/mnist/train-labels-idx1-ubyte.gz to dataset/MNIST/raw/train-labels-idx1-ubyte.gz\n"
          ]
        },
        {
          "output_type": "display_data",
          "data": {
            "text/plain": [
              "  0%|          | 0/28881 [00:00<?, ?it/s]"
            ],
            "application/vnd.jupyter.widget-view+json": {
              "version_major": 2,
              "version_minor": 0,
              "model_id": "47b8c15125cf4c1f8571bf765ab34f31"
            }
          },
          "metadata": {}
        },
        {
          "output_type": "stream",
          "name": "stdout",
          "text": [
            "Extracting dataset/MNIST/raw/train-labels-idx1-ubyte.gz to dataset/MNIST/raw\n",
            "\n",
            "Downloading http://yann.lecun.com/exdb/mnist/t10k-images-idx3-ubyte.gz\n",
            "Downloading http://yann.lecun.com/exdb/mnist/t10k-images-idx3-ubyte.gz to dataset/MNIST/raw/t10k-images-idx3-ubyte.gz\n"
          ]
        },
        {
          "output_type": "display_data",
          "data": {
            "text/plain": [
              "  0%|          | 0/1648877 [00:00<?, ?it/s]"
            ],
            "application/vnd.jupyter.widget-view+json": {
              "version_major": 2,
              "version_minor": 0,
              "model_id": "ac6432dad6374c2589bdac55842b1f0a"
            }
          },
          "metadata": {}
        },
        {
          "output_type": "stream",
          "name": "stdout",
          "text": [
            "Extracting dataset/MNIST/raw/t10k-images-idx3-ubyte.gz to dataset/MNIST/raw\n",
            "\n",
            "Downloading http://yann.lecun.com/exdb/mnist/t10k-labels-idx1-ubyte.gz\n",
            "Downloading http://yann.lecun.com/exdb/mnist/t10k-labels-idx1-ubyte.gz to dataset/MNIST/raw/t10k-labels-idx1-ubyte.gz\n"
          ]
        },
        {
          "output_type": "display_data",
          "data": {
            "text/plain": [
              "  0%|          | 0/4542 [00:00<?, ?it/s]"
            ],
            "application/vnd.jupyter.widget-view+json": {
              "version_major": 2,
              "version_minor": 0,
              "model_id": "c2b9a421b6a24897b450494fbc4c4738"
            }
          },
          "metadata": {}
        },
        {
          "output_type": "stream",
          "name": "stdout",
          "text": [
            "Extracting dataset/MNIST/raw/t10k-labels-idx1-ubyte.gz to dataset/MNIST/raw\n",
            "\n"
          ]
        }
      ]
    },
    {
      "cell_type": "code",
      "source": [
        "#Initialize network\n",
        "model = NN(input_size=input_size,num_classes=num_classes).to(device)\n",
        "#loss function network\n",
        "criterion = nn.CrossEntropyLoss()\n",
        "optimizer = optim.Adam(model.parameters(),lr=learning_rate)"
      ],
      "metadata": {
        "id": "0hBmsW6AEMsr"
      },
      "execution_count": null,
      "outputs": []
    },
    {
      "cell_type": "code",
      "source": [
        "#train network\n",
        "for epoch in range(num_epochs):\n",
        "    losses = []\n",
        "    for batch_idx,(data,targets) in enumerate(train_loader):\n",
        "        data = data.to(device=device)\n",
        "        targets = targets.to(device=device)\n",
        "\n",
        "        #get to correct shape\n",
        "        data=data.reshape(data.shape[0],-1)\n",
        "\n",
        "        #forward\n",
        "        score = model(data)\n",
        "        loss = criterion(score,targets)\n",
        "        losses.append(loss.item())\n",
        "\n",
        "        #backward\n",
        "        optimizer.zero_grad()\n",
        "        loss.backward()\n",
        "\n",
        "        #gradient descent or adam step\n",
        "        optimizer.step()\n",
        "    mean_loss = sum(losses) / len(losses)\n",
        "    print(f'epoch: {epoch+1}/{num_epochs } loss =  {mean_loss:.5f}')"
      ],
      "metadata": {
        "colab": {
          "base_uri": "https://localhost:8080/"
        },
        "id": "oEop8gvMEOkM",
        "outputId": "bc25bdb2-f4d1-46ec-e83b-848bd96f7b7a"
      },
      "execution_count": null,
      "outputs": [
        {
          "output_type": "stream",
          "name": "stdout",
          "text": [
            "epoch: 1/5 loss =  0.32078\n",
            "epoch: 2/5 loss =  0.15483\n",
            "epoch: 3/5 loss =  0.12210\n",
            "epoch: 4/5 loss =  0.10391\n",
            "epoch: 5/5 loss =  0.09227\n"
          ]
        }
      ]
    },
    {
      "cell_type": "code",
      "source": [
        "#Check accuracy\n",
        "def check_accuracy(loader,model):\n",
        "    if loader.dataset.train:\n",
        "        print('checking accuracy on training data')\n",
        "    else:\n",
        "        print('checking accuracy on testing data')\n",
        "    num_correct=0\n",
        "    num_samples=0\n",
        "    model.eval()\n",
        "\n",
        "    with torch.no_grad():\n",
        "        for x,y in loader:\n",
        "            x = x.to(device=device)\n",
        "            y = y.to(device=device)\n",
        "            x = x.reshape(x.shape[0],-1)\n",
        "\n",
        "            scores = model(x)\n",
        "            _,predictions = scores.max(1)\n",
        "            num_correct+= (predictions==y).sum()\n",
        "            num_samples+= predictions.size(0)\n",
        "\n",
        "        print(f'Got {num_correct}/{num_samples} with accuracy {float(num_correct)/float(num_samples)*100:.2f}')\n",
        "    model.train()\n"
      ],
      "metadata": {
        "id": "Lbcsfi2cEQS1"
      },
      "execution_count": null,
      "outputs": []
    },
    {
      "cell_type": "code",
      "source": [
        "check_accuracy(train_loader,model)\n",
        "check_accuracy(test_loader,model)"
      ],
      "metadata": {
        "id": "LCT5JHn7Ec--",
        "outputId": "a5855b8b-7505-498e-ab19-5709c0d6bbf1",
        "colab": {
          "base_uri": "https://localhost:8080/"
        }
      },
      "execution_count": null,
      "outputs": [
        {
          "output_type": "stream",
          "name": "stdout",
          "text": [
            "checking accuracy on training data\n",
            "Got 59044/60000 with accuracy 98.41\n",
            "checking accuracy on testing data\n",
            "Got 9709/10000 with accuracy 97.09\n"
          ]
        }
      ]
    },
    {
      "cell_type": "code",
      "source": [],
      "metadata": {
        "id": "jH8ZDeIrEe4H"
      },
      "execution_count": null,
      "outputs": []
    }
  ]
}