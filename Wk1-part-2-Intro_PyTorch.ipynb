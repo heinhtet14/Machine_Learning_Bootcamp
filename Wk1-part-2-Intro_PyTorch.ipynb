{
  "cells": [
    {
      "cell_type": "markdown",
      "metadata": {
        "id": "view-in-github",
        "colab_type": "text"
      },
      "source": [
        "<a href=\"https://colab.research.google.com/github/heinhtet14/Machine_Learning_Bootcamp/blob/main/Wk1-part-2-Intro_PyTorch.ipynb\" target=\"_parent\"><img src=\"https://colab.research.google.com/assets/colab-badge.svg\" alt=\"Open In Colab\"/></a>"
      ]
    },
    {
      "cell_type": "markdown",
      "metadata": {
        "id": "kh4XbiY1Ig8x"
      },
      "source": [
        "# **# Let's start with Pytorch:-**\n",
        "PyTorch is a library for Python programs that facilitates building deep learning projects PyTorch supports dynamic computational graphs, which means the network behavior can be changed programmatically at runtime. This facilitates more efficient model optimization and gives PyTorch a major advantage over other machine learning frameworks, which treat neural networks as static objects. If you want to explore Deep learning then Pytorch is your friend Kindly head to https://pytorch.org/docs/master/nn.html to unvail the beauty of Pytorch library\n",
        "![download (1).png](data:image/png;base64,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)\n",
        "\n"
      ]
    },
    {
      "cell_type": "markdown",
      "metadata": {
        "id": "0-5aurkbJrtW"
      },
      "source": [
        "# **Basic Tensor Initialization**\n",
        "\n",
        "What is a Tensor?\n",
        "\n",
        "A tensor is a data structure that is the fundamental building block for machine learning and deep learning. You can think of a tensor as a generalized mathematical object that can hold data in multiple dimensions, similar to scalars, vectors, and matrices, but with more flexibility in the number of dimensions.\n",
        "In PyTorch (and machine learning in general), tensors are used to represent and manipulate data efficiently.\n",
        "To make it simple:\n",
        "\n",
        "Scalars are single numbers.\n",
        "Vectors are 1D arrays of numbers (like a list).\n",
        "Matrices are 2D arrays of numbers (like a grid or table).\n",
        "Tensors are the generalization of these data structures to higher dimensions.\n",
        "\n",
        "\n",
        "\n",
        "![alt text](https://github.com/heinhtet14/Machine_Learning_Bootcamp/blob/main/images/1686308835063.png?raw=1)\n"
      ]
    },
    {
      "cell_type": "code",
      "execution_count": null,
      "metadata": {
        "id": "4RkfscfLJd5a"
      },
      "outputs": [],
      "source": [
        "import torch # We start by importing PyTorch Library"
      ]
    },
    {
      "cell_type": "code",
      "execution_count": null,
      "metadata": {
        "id": "oWwf68aWMxRr"
      },
      "outputs": [],
      "source": [
        "device = \"cuda\" if torch.cuda.is_available() else \"cpu\""
      ]
    },
    {
      "cell_type": "code",
      "execution_count": null,
      "metadata": {
        "colab": {
          "base_uri": "https://localhost:8080/"
        },
        "id": "RHT6gK9JKc0D",
        "outputId": "76868f02-0849-4c1d-aef3-317fc7a02c59"
      },
      "outputs": [
        {
          "name": "stdout",
          "output_type": "stream",
          "text": [
            "tensor([[1., 2., 3.],\n",
            "        [4., 5., 6.]], device='cuda:0')\n"
          ]
        }
      ],
      "source": [
        "my_tensor = torch.tensor([[1,2,3], [4,5,6]], dtype=torch.float32,\n",
        "                         device=device) # We created a tensor which consists of two rows 3 columns ; [1,2,3] : 1st row, [4,5,6] : 2nd row\n",
        "print(my_tensor)"
      ]
    },
    {
      "cell_type": "code",
      "execution_count": null,
      "metadata": {
        "colab": {
          "base_uri": "https://localhost:8080/"
        },
        "id": "wXWqmkxPLSWA",
        "outputId": "450bdcd0-3a54-4db7-b36a-6823003e3dfb"
      },
      "outputs": [
        {
          "name": "stdout",
          "output_type": "stream",
          "text": [
            "torch.float32\n",
            "cuda:0\n",
            "torch.Size([2, 3])\n"
          ]
        }
      ],
      "source": [
        "# Other Useful Attributes of Tensor\n",
        "print(my_tensor.dtype) # print your tensor datatype\n",
        "print(my_tensor.device)# print which device your tensor is on\n",
        "print(my_tensor.shape) # shape of your tensor"
      ]
    },
    {
      "cell_type": "code",
      "execution_count": null,
      "metadata": {
        "colab": {
          "base_uri": "https://localhost:8080/"
        },
        "id": "9tPsWDRxNoim",
        "outputId": "f59fb8fa-15f8-4840-8578-63e486b34d0d"
      },
      "outputs": [
        {
          "name": "stdout",
          "output_type": "stream",
          "text": [
            "tensor([[1., 0., 0., 0., 0.],\n",
            "        [0., 1., 0., 0., 0.],\n",
            "        [0., 0., 1., 0., 0.],\n",
            "        [0., 0., 0., 1., 0.],\n",
            "        [0., 0., 0., 0., 1.]])\n"
          ]
        }
      ],
      "source": [
        "# Other Common Initialization Methods\n",
        "x = torch.empty(size= (3,3)) # Create an empty set of 3x3 matrix or tensor. There is no zero\n",
        "x = torch.zeros((3,3))       # A tensor with zeros\n",
        "x = torch.rand((3,3))        # A random tensor between 0 and 1\n",
        "x = torch.ones((3,3))        # A 3x3 matrix of ones\n",
        "x = torch.eye(5,5)         # Create an identity matrix , I = eye\n",
        "print(x)"
      ]
    },
    {
      "cell_type": "code",
      "execution_count": null,
      "metadata": {
        "id": "0lfSs7mjZcBZ"
      },
      "outputs": [],
      "source": [
        "# Basic Tensor Operations\n",
        "sum_x = torch.sum(x, dim=0)\n",
        "values, indices = torch.max(x, dim=0) # Returns the values and the indices of the maximum values\n",
        "values, indices = torch.min(x, dim=0) # Returns the values and the indices of the min values\n",
        "abs_x = torch.abs(x) # Absolute Value\n",
        "z = torch.argmax(x, dim=0) # Same thing as torch.max but only returns the index of the one that is the maximum\n"
      ]
    },
    {
      "cell_type": "code",
      "execution_count": null,
      "metadata": {
        "colab": {
          "base_uri": "https://localhost:8080/"
        },
        "id": "ZbwkU8GRdiTZ",
        "outputId": "82507554-7aaf-4640-dc19-ae3e7b1c3027"
      },
      "outputs": [
        {
          "name": "stdout",
          "output_type": "stream",
          "text": [
            "torch.Size([25])\n",
            "tensor([0.7348, 0.2161, 0.3553, 0.0185, 0.0885, 0.7970, 0.7857, 0.7306, 0.5689,\n",
            "        0.7863])\n"
          ]
        }
      ],
      "source": [
        "# Tensor Indexing\n",
        "# For example, we have a batch size of 10 and 25 features in a batch\n",
        "batch_size = 10\n",
        "features   = 25\n",
        "x = torch.rand((batch_size, features))\n",
        "\n",
        "# Let's say we want to get a feature of first example\n",
        "print(x[0].shape) # It is the same as x[0,:] where 0 = first example of the batch,  : = represents all the features\n",
        "\n",
        "# First feature of all example\n",
        "print(x[:,0].shape)\n"
      ]
    },
    {
      "cell_type": "code",
      "execution_count": null,
      "metadata": {
        "colab": {
          "base_uri": "https://localhost:8080/"
        },
        "id": "6LO3G3itcI-i",
        "outputId": "0f17cec1-b9d7-4dcb-aab2-ded5c96f5a40"
      },
      "outputs": [
        {
          "name": "stdout",
          "output_type": "stream",
          "text": [
            "tensor([[1.],\n",
            "        [2.],\n",
            "        [3.]])\n",
            "tensor([[2., 3., 4.],\n",
            "        [3., 4., 5.],\n",
            "        [4., 5., 6.]])\n",
            "tensor([[1., 2., 3.],\n",
            "        [2., 4., 6.],\n",
            "        [3., 6., 9.]])\n",
            "tensor(1.)\n",
            "tensor([1., 2.])\n",
            "tensor([[2., 4.],\n",
            "        [4., 6.],\n",
            "        [6., 8.]])\n",
            "tensor([1., 2., 3., 4., 5., 6.])\n"
          ]
        }
      ],
      "source": [
        "tensor1 = torch.Tensor([1, 2, 3])\n",
        "# Reshaping a Tensor\n",
        "tensor2 = torch.reshape(tensor1, (3, 1)) # Reshaping the original tensor (1x3) to (3x1) dimension\n",
        "print(tensor2)\n",
        "\n",
        "# Element-wise Operations\n",
        "tensor3 = tensor1 + tensor2\n",
        "print(tensor3)\n",
        "\n",
        "# Matrix Operations\n",
        "tensor4 = torch.matmul(tensor2, tensor2.T) # Matrix multiplication\n",
        "print(tensor4)\n",
        "\n",
        "# Indexing and Slicing\n",
        "print(tensor1[0])\n",
        "print(tensor1[0:2])\n",
        "\n",
        "# Broadcasting allows you to perform operations between tensors of different shapes or sizes without having to explicitly reshape or expand them\n",
        "# Creating two tensors of different shapes which are immposible to calculate in mathematical terms but operatable in PyTorch\n",
        "#tensor5 = torch.Tensor([1, 2, 3])\n",
        "tensor5 = torch.Tensor([1, 2])\n",
        "tensor6 = torch.Tensor([[1, 2], [3, 4], [5, 6]])\n",
        "tensor7 = tensor5 + tensor6\n",
        "print(tensor7)\n",
        "\n",
        "# Concatenation\n",
        "tensor8 = torch.Tensor([4, 5, 6])\n",
        "tensor9 = torch.cat([tensor1, tensor8], dim=0)\n",
        "print(tensor9)"
      ]
    },
    {
      "cell_type": "markdown",
      "metadata": {
        "id": "_Dab5gntW1Pk"
      },
      "source": [
        "Why Are Tensors Important in Machine Learning?\n",
        "Tensors are central to machine learning because:\n",
        "\n",
        "Efficient Computation: Tensors allow PyTorch (and other frameworks) to perform fast computations on CPUs and GPUs.\n",
        "Flexibility: They can easily represent different kinds of data (e.g., 1D, 2D, 3D) which is crucial in handling diverse data types such as images, audio, and text.\n",
        "Gradient Tracking: PyTorch tensors, when used with Autograd, can automatically compute gradients needed for optimizing models during training."
      ]
    },
    {
      "cell_type": "markdown",
      "metadata": {
        "id": "c7dzIgaEW1Pk"
      },
      "source": [
        "Tensors can represent different types of real-world data:\n",
        "\n",
        "1D: Sensor readings (e.g., temperature over time).\n",
        "\n",
        "2D: Grayscale images or spreadsheets.\n",
        "\n",
        "3D: RGB images (height, width, color channels).\n",
        "\n",
        "4D: Videos (frames, height, width, color channels)."
      ]
    },
    {
      "cell_type": "markdown",
      "metadata": {
        "id": "C-HoEfGUQzoV"
      },
      "source": [
        "# **Autograd**\n",
        " Autograd allows PyTorch to automatically and efficiently calculate the gradients of a function with respect to its inputs using the chain rule of calculus."
      ]
    },
    {
      "cell_type": "code",
      "execution_count": null,
      "metadata": {
        "colab": {
          "base_uri": "https://localhost:8080/"
        },
        "id": "O2QF555eOKyH",
        "outputId": "3a6f6334-6932-429f-db26-5b659d736b2f"
      },
      "outputs": [
        {
          "name": "stdout",
          "output_type": "stream",
          "text": [
            "tensor(29., grad_fn=<SumBackward0>)\n",
            "tensor([4., 6., 8.])\n"
          ]
        }
      ],
      "source": [
        "# Define a tensor with requires_grad=True to track the gradient\n",
        "x = torch.tensor([1.0, 2.0, 3.0], requires_grad=True)\n",
        "\n",
        "# Define a function to compute the output\n",
        "def forward(x):\n",
        "    y = x**2 + 2*x + 1\n",
        "    return y.sum()\n",
        "    # Compute the output of the function\n",
        "y = forward(x)\n",
        "print(y)\n",
        "\n",
        "# Compute the gradients of the output with respect to the input\n",
        "y.backward()\n",
        "\n",
        "# Print the gradients of the input tensor\n",
        "print(x.grad)"
      ]
    },
    {
      "cell_type": "markdown",
      "metadata": {
        "id": "hHc5NmIqjS7W"
      },
      "source": [
        "# **Introduction to Neural Networks**\n",
        "We will discuss about defining the layers, activation functions, loss function and optimizer step by step"
      ]
    },
    {
      "cell_type": "code",
      "execution_count": null,
      "metadata": {
        "id": "s1Pe6dS1jja6"
      },
      "outputs": [],
      "source": [
        "# Import classes to inherit in order to define the neural network\n",
        "import torch.nn as nn\n",
        "import torch.optim as optim\n",
        "import matplotlib.pyplot as plt"
      ]
    },
    {
      "cell_type": "code",
      "execution_count": null,
      "metadata": {
        "id": "5ydFQzaHjuBW"
      },
      "outputs": [],
      "source": [
        "# Define the neural network architecture\n",
        "class Net:\n",
        "    def __init__(self):\n",
        "        self.fc1_w = torch.randn(2, 4, requires_grad=True) # input layer (2 nodes) -> hidden layer (4 nodes)\n",
        "        self.fc1_b = torch.randn(4, requires_grad=True)\n",
        "        self.fc2_w = torch.randn(4, 1, requires_grad=True) # hidden layer (4 nodes) -> output layer (1 node)\n",
        "        self.fc2_b = torch.randn(1, requires_grad=True)\n",
        "\n",
        "    def forward(self, x):\n",
        "        x = torch.sigmoid(torch.matmul(x, self.fc1_w) + self.fc1_b)\n",
        "        x = torch.matmul(x, self.fc2_w) + self.fc2_b\n",
        "        return x"
      ]
    },
    {
      "cell_type": "code",
      "execution_count": null,
      "metadata": {
        "id": "xli5vmO7kULc"
      },
      "outputs": [],
      "source": [
        "# Define the loss function\n",
        "criterion = nn.MSELoss()"
      ]
    },
    {
      "cell_type": "code",
      "execution_count": null,
      "metadata": {
        "id": "4slzl36fkWsz"
      },
      "outputs": [],
      "source": [
        "# Define the optimizer\n",
        "net = Net()\n",
        "optimizer = torch.optim.SGD([net.fc1_w, net.fc1_b, net.fc2_w, net.fc2_b], lr=0.1)"
      ]
    },
    {
      "cell_type": "code",
      "execution_count": null,
      "metadata": {
        "id": "1T-MXTmmkYev"
      },
      "outputs": [],
      "source": [
        "# Define the training data\n",
        "train_data = torch.tensor([[0, 0], [0, 1], [1, 0], [1, 1]], dtype=torch.float32)\n",
        "train_labels = torch.tensor([[0], [1], [1], [0]], dtype=torch.float32)"
      ]
    },
    {
      "cell_type": "code",
      "execution_count": null,
      "metadata": {
        "colab": {
          "base_uri": "https://localhost:8080/",
          "height": 279
        },
        "id": "rRr-rsrIkaYQ",
        "outputId": "2d320ae0-f8d6-4a60-a531-48cc4531e683"
      },
      "outputs": [
        {
          "data": {
            "image/png": "[encoded data removed]",
            "text/plain": [
              "<Figure size 432x288 with 1 Axes>"
            ]
          },
          "metadata": {
            "needs_background": "light"
          },
          "output_type": "display_data"
        }
      ],
      "source": [
        "# Train the neural network\n",
        "loss_values = []\n",
        "for epoch in range(1000):\n",
        "    optimizer.zero_grad()\n",
        "    outputs = net.forward(train_data)\n",
        "    loss = criterion(outputs, train_labels)\n",
        "    loss.backward()\n",
        "    optimizer.step()\n",
        "    loss_values.append(loss.item())\n",
        "\n",
        "# Plot the loss curve\n",
        "plt.plot(loss_values)\n",
        "plt.xlabel('Epoch')\n",
        "plt.ylabel('Loss')\n",
        "plt.show()"
      ]
    },
    {
      "cell_type": "code",
      "execution_count": null,
      "metadata": {
        "colab": {
          "base_uri": "https://localhost:8080/"
        },
        "id": "1WdbiQ6jlG6-",
        "outputId": "63c5d5ca-4fc0-4014-9181-7cf8a7aa79d4"
      },
      "outputs": [
        {
          "name": "stdout",
          "output_type": "stream",
          "text": [
            "tensor([[0.0014],\n",
            "        [0.9982],\n",
            "        [0.9982],\n",
            "        [0.0025]], grad_fn=<AddBackward0>)\n"
          ]
        }
      ],
      "source": [
        "# Evaluate the trained neural network\n",
        "test_data = torch.tensor([[0, 0], [0, 1], [1, 0], [1, 1]], dtype=torch.float32)\n",
        "test_labels = net.forward(test_data)\n",
        "print(test_labels)"
      ]
    },
    {
      "cell_type": "code",
      "source": [
        "# Install PyTorch\n",
        "# pip install torch torchvision\n",
        "\n",
        "# Import necessary libraries\n",
        "import torch\n",
        "import torch.nn as nn\n",
        "import torch.optim as optim\n",
        "import torchvision\n",
        "import matplotlib.pyplot as plt\n",
        "import numpy as np"
      ],
      "metadata": {
        "id": "_hAYx2csZNP9"
      },
      "execution_count": 1,
      "outputs": []
    },
    {
      "cell_type": "markdown",
      "source": [
        "**Linear Regression Example**"
      ],
      "metadata": {
        "id": "g6o1YkXBYrcH"
      }
    },
    {
      "cell_type": "code",
      "source": [
        "# Define a simple linear regression model\n",
        "class LinearRegressionModel(nn.Module):\n",
        "    def __init__(self, input_dim, output_dim):\n",
        "        super(LinearRegressionModel, self).__init__()\n",
        "        # Linear layer (input_dim -> output_dim)\n",
        "        self.linear = nn.Linear(input_dim, output_dim)\n",
        "\n",
        "    def forward(self, x):\n",
        "        # Simple forward pass\n",
        "        return self.linear(x)\n",
        "\n",
        "# Create an instance of the model\n",
        "input_dim = 1\n",
        "output_dim = 1\n",
        "model = LinearRegressionModel(input_dim, output_dim)\n",
        "\n",
        "print(f\"Model structure: {model}\")\n",
        "# Check model parameters\n",
        "for name, param in model.named_parameters():\n",
        "    print(f\"Parameter {name}: {param.shape}\")"
      ],
      "metadata": {
        "id": "owfxbqDPYvt2",
        "outputId": "b631aa09-c06e-4ed2-aa36-8b49efdda72f",
        "colab": {
          "base_uri": "https://localhost:8080/"
        }
      },
      "execution_count": 4,
      "outputs": [
        {
          "output_type": "stream",
          "name": "stdout",
          "text": [
            "Model structure: LinearRegressionModel(\n",
            "  (linear): Linear(in_features=1, out_features=1, bias=True)\n",
            ")\n",
            "Parameter linear.weight: torch.Size([1, 1])\n",
            "Parameter linear.bias: torch.Size([1])\n"
          ]
        }
      ]
    },
    {
      "cell_type": "markdown",
      "source": [
        "**Multi-Layer Neural Network**"
      ],
      "metadata": {
        "id": "EyxmBT9NYxq2"
      }
    },
    {
      "cell_type": "code",
      "source": [
        "# Define a more complex neural network\n",
        "class NeuralNetwork(nn.Module):\n",
        "    def __init__(self):\n",
        "        super(NeuralNetwork, self).__init__()\n",
        "        # Architecture: 784 (input) -> 128 -> 64 -> 10 (output)\n",
        "        self.flatten = nn.Flatten()\n",
        "        self.layers = nn.Sequential(\n",
        "            nn.Linear(28*28, 128),  # First hidden layer\n",
        "            nn.ReLU(),              # Activation function\n",
        "            nn.Linear(128, 64),     # Second hidden layer\n",
        "            nn.ReLU(),              # Activation function\n",
        "            nn.Linear(64, 10)       # Output layer\n",
        "        )\n",
        "\n",
        "    def forward(self, x):\n",
        "        # Flatten the input image\n",
        "        x = self.flatten(x)\n",
        "        # Pass through the sequential layers\n",
        "        logits = self.layers(x)\n",
        "        return logits\n",
        "\n",
        "# Create model instance and examine structure\n",
        "model = NeuralNetwork()\n",
        "print(model)\n",
        "\n",
        "# Get total number of parameters\n",
        "total_params = sum(p.numel() for p in model.parameters())\n",
        "print(f\"Total parameters: {total_params}\")"
      ],
      "metadata": {
        "id": "mG8_rm6pY1Hf"
      },
      "execution_count": null,
      "outputs": []
    },
    {
      "cell_type": "markdown",
      "source": [
        "**Training a Simple Model**\n",
        "\n",
        "**Create a Synthetic Dataset**"
      ],
      "metadata": {
        "id": "uvJmIyKcZYOF"
      }
    },
    {
      "cell_type": "code",
      "execution_count": 2,
      "metadata": {
        "id": "jH8ZDeIrEe4H",
        "outputId": "73168173-41b5-47cd-e8fc-febd21ecdec3",
        "colab": {
          "base_uri": "https://localhost:8080/",
          "height": 531
        }
      },
      "outputs": [
        {
          "output_type": "display_data",
          "data": {
            "text/plain": [
              "<Figure size 800x600 with 1 Axes>"
            ],
            "image/png": "[encoded data removed]"
          },
          "metadata": {}
        }
      ],
      "source": [
        "# Generate synthetic regression data\n",
        "def generate_data(n_samples=100):\n",
        "    # True parameters: w=2, b=0.5\n",
        "    X = torch.rand(n_samples, 1) * 10  # Random input between 0 and 10\n",
        "    y = 2 * X + 0.5 + torch.randn(n_samples, 1) * 1.0  # Add some noise\n",
        "    return X, y\n",
        "\n",
        "# Generate data\n",
        "X_train, y_train = generate_data(100)\n",
        "\n",
        "# Visualize the data\n",
        "plt.figure(figsize=(8, 6))\n",
        "plt.scatter(X_train.numpy(), y_train.numpy(), alpha=0.7)\n",
        "plt.title('Synthetic Regression Data')\n",
        "plt.xlabel('X')\n",
        "plt.ylabel('y')\n",
        "plt.grid(True)\n",
        "plt.show()"
      ]
    },
    {
      "cell_type": "markdown",
      "source": [
        "Training Loop"
      ],
      "metadata": {
        "id": "Fg7EChfKZqX8"
      }
    },
    {
      "cell_type": "code",
      "source": [
        "# Initialize the model\n",
        "model = LinearRegressionModel(input_dim=1, output_dim=1)\n",
        "\n",
        "# Define loss function and optimizer\n",
        "criterion = nn.MSELoss()\n",
        "optimizer = optim.SGD(model.parameters(), lr=0.01)\n",
        "\n",
        "# Training parameters\n",
        "num_epochs = 100\n",
        "\n",
        "# Lists to store losses for plotting\n",
        "losses = []\n",
        "\n",
        "# Training loop\n",
        "for epoch in range(num_epochs):\n",
        "    # Forward pass\n",
        "    y_pred = model(X_train)\n",
        "\n",
        "    # Compute and print loss\n",
        "    loss = criterion(y_pred, y_train)\n",
        "    losses.append(loss.item())\n",
        "\n",
        "    # Zero gradients, backward pass, and update\n",
        "    optimizer.zero_grad()\n",
        "    loss.backward()\n",
        "    optimizer.step()\n",
        "\n",
        "    # Print progress every 10 epochs\n",
        "    if (epoch+1) % 10 == 0:\n",
        "        print(f'Epoch [{epoch+1}/{num_epochs}], Loss: {loss.item():.4f}')\n",
        "\n",
        "# Get the learned parameters\n",
        "with torch.no_grad():\n",
        "    w = model.linear.weight.item()\n",
        "    b = model.linear.bias.item()\n",
        "    print(f\"Learned parameters: w = {w:.4f}, b = {b:.4f}\")\n",
        "    print(f\"True parameters: w = 2.0000, b = 0.5000\")\n",
        "\n",
        "# Plot the result\n",
        "plt.figure(figsize=(10, 4))\n",
        "\n",
        "# Plot the loss curve\n",
        "plt.subplot(1, 2, 1)\n",
        "plt.plot(losses)\n",
        "plt.title('Training Loss')\n",
        "plt.xlabel('Epochs')\n",
        "plt.ylabel('Loss')\n",
        "plt.grid(True)\n",
        "\n",
        "# Plot the data and the learned model\n",
        "plt.subplot(1, 2, 2)\n",
        "plt.scatter(X_train.numpy(), y_train.numpy(), alpha=0.4, label='Data')\n",
        "\n",
        "# Generate points for the learned line\n",
        "x_range = torch.linspace(0, 10, 100).reshape(-1, 1)\n",
        "with torch.no_grad():\n",
        "    y_range = model(x_range)\n",
        "\n",
        "plt.plot(x_range.numpy(), y_range.numpy(), 'r-', linewidth=3, label='Fitted Line')\n",
        "plt.title('Linear Regression Result')\n",
        "plt.xlabel('X')\n",
        "plt.ylabel('y')\n",
        "plt.legend()\n",
        "plt.grid(True)\n",
        "\n",
        "plt.tight_layout()\n",
        "plt.show()"
      ],
      "metadata": {
        "id": "H0uFy6xEZolE",
        "outputId": "ab792d6f-9d38-417b-d9ff-c975af263767",
        "colab": {
          "base_uri": "https://localhost:8080/",
          "height": 489
        }
      },
      "execution_count": 5,
      "outputs": [
        {
          "output_type": "stream",
          "name": "stdout",
          "text": [
            "Epoch [10/100], Loss: 0.8152\n",
            "Epoch [20/100], Loss: 0.8132\n",
            "Epoch [30/100], Loss: 0.8113\n",
            "Epoch [40/100], Loss: 0.8097\n",
            "Epoch [50/100], Loss: 0.8082\n",
            "Epoch [60/100], Loss: 0.8068\n",
            "Epoch [70/100], Loss: 0.8056\n",
            "Epoch [80/100], Loss: 0.8045\n",
            "Epoch [90/100], Loss: 0.8035\n",
            "Epoch [100/100], Loss: 0.8026\n",
            "Learned parameters: w = 1.9601, b = 0.7374\n",
            "True parameters: w = 2.0000, b = 0.5000\n"
          ]
        },
        {
          "output_type": "display_data",
          "data": {
            "text/plain": [
              "<Figure size 1000x400 with 2 Axes>"
            ],
            "image/png": "[encoded data removed]"
          },
          "metadata": {}
        }
      ]
    },
    {
      "cell_type": "markdown",
      "source": [
        "**Practical Example: Image Classification**\n",
        "\n",
        "Let's build and train a convolutional neural network (CNN) for image classification using the MNIST dataset."
      ],
      "metadata": {
        "id": "gsA7an4nZ0R0"
      }
    },
    {
      "cell_type": "code",
      "source": [],
      "metadata": {
        "id": "XOmN3FV0ZtRn"
      },
      "execution_count": null,
      "outputs": []
    }
  ],
  "metadata": {
    "accelerator": "GPU",
    "colab": {
      "provenance": [],
      "include_colab_link": true
    },
    "gpuClass": "standard",
    "kernelspec": {
      "display_name": "Python 3",
      "name": "python3"
    },
    "language_info": {
      "name": "python"
    }
  },
  "nbformat": 4,
  "nbformat_minor": 0
}